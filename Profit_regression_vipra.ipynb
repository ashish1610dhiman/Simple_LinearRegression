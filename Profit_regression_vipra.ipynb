{
 "cells": [
  {
   "cell_type": "code",
   "execution_count": 1,
   "metadata": {
    "collapsed": true
   },
   "outputs": [],
   "source": [
    "import os\n",
    "import pandas as pd\n",
    "import numpy as np\n",
    "from sklearn import linear_model\n",
    "import matplotlib.pyplot as plt\n",
    "from sklearn.model_selection import train_test_split\n",
    "\n",
    "os.chdir(\"C:\\\\Users\\\\Dhiman\\\\Downloads\") ##Put your dir here"
   ]
  },
  {
   "cell_type": "markdown",
   "metadata": {},
   "source": []
  },
  {
   "cell_type": "code",
   "execution_count": 2,
   "metadata": {},
   "outputs": [],
   "source": [
    "# Read the data files\n",
    "data=pd.read_csv(\"Regression_Data.csv\")\n",
    "#data.describe()"
   ]
  },
  {
   "cell_type": "markdown",
   "metadata": {},
   "source": [
    "#### Dummy code the variables state and district"
   ]
  },
  {
   "cell_type": "code",
   "execution_count": 3,
   "metadata": {
    "collapsed": true
   },
   "outputs": [],
   "source": [
    "state_dummies = pd.get_dummies(data['State_New'])\n",
    "district_dummies = pd.get_dummies(data['District'])\n",
    "\n",
    "state_cols=list(state_dummies.columns)\n",
    "for i,state in enumerate(state_cols):\n",
    "    state_cols[i]=\"state_\"+state\n",
    "state_dummies.columns=state_cols\n",
    "state_dummies.drop(state_cols[0],axis=1,inplace=True)\n",
    "    \n",
    "district_cols=list(district_dummies.columns)\n",
    "for i,district in enumerate(district_cols):\n",
    "    district_cols[i]=\"state_\"+district\n",
    "district_dummies.columns=district_cols\n",
    "district_dummies.drop(district_cols[0],axis=1,inplace=True)"
   ]
  },
  {
   "cell_type": "markdown",
   "metadata": {},
   "source": [
    "#### Concat the dummies and Split data into test and train"
   ]
  },
  {
   "cell_type": "code",
   "execution_count": 4,
   "metadata": {
    "collapsed": true
   },
   "outputs": [],
   "source": [
    "data= pd.concat([data, state_dummies,district_dummies], axis=1)\n",
    "x=data.drop(labels=[\"Profit\",\"State_New\",\"District\"],axis=1)\n",
    "y=data[\"Profit\"]"
   ]
  },
  {
   "cell_type": "markdown",
   "metadata": {},
   "source": [
    "### Specify the max num of variables to use"
   ]
  },
  {
   "cell_type": "code",
   "execution_count": 5,
   "metadata": {
    "collapsed": true
   },
   "outputs": [],
   "source": [
    "max_vars=43"
   ]
  },
  {
   "cell_type": "markdown",
   "metadata": {},
   "source": [
    "### Run iteration over features and test"
   ]
  },
  {
   "cell_type": "code",
   "execution_count": 6,
   "metadata": {},
   "outputs": [
    {
     "name": "stdout",
     "output_type": "stream",
     "text": [
      "Choosing top 1 features:\n",
      "r_squared (Train)=0.250300\n",
      "r_squared (Test)=-0.003577\n",
      "\n",
      "\n",
      "Choosing top 2 features:\n",
      "r_squared (Train)=0.355316\n",
      "r_squared (Test)=0.076105\n",
      "\n",
      "\n",
      "Choosing top 3 features:\n",
      "r_squared (Train)=0.421103\n",
      "r_squared (Test)=0.108350\n",
      "\n",
      "\n",
      "Choosing top 4 features:\n",
      "r_squared (Train)=0.440434\n",
      "r_squared (Test)=0.157447\n",
      "\n",
      "\n",
      "Choosing top 5 features:\n",
      "r_squared (Train)=0.471996\n",
      "r_squared (Test)=0.213981\n",
      "\n",
      "\n",
      "Choosing top 6 features:\n",
      "r_squared (Train)=0.494938\n",
      "r_squared (Test)=0.236291\n",
      "\n",
      "\n",
      "Choosing top 7 features:\n",
      "r_squared (Train)=0.508842\n",
      "r_squared (Test)=0.240887\n",
      "\n",
      "\n",
      "Choosing top 8 features:\n",
      "r_squared (Train)=0.523051\n",
      "r_squared (Test)=0.269080\n",
      "\n",
      "\n",
      "Choosing top 9 features:\n",
      "r_squared (Train)=0.542930\n",
      "r_squared (Test)=0.268378\n",
      "\n",
      "\n",
      "Choosing top 10 features:\n",
      "r_squared (Train)=0.542930\n",
      "r_squared (Test)=0.268378\n",
      "\n",
      "\n",
      "Choosing top 11 features:\n",
      "r_squared (Train)=0.552333\n",
      "r_squared (Test)=0.322076\n",
      "\n",
      "\n",
      "Choosing top 12 features:\n",
      "r_squared (Train)=0.560089\n",
      "r_squared (Test)=0.323197\n",
      "\n",
      "\n",
      "Choosing top 13 features:\n",
      "r_squared (Train)=0.560089\n",
      "r_squared (Test)=0.323197\n",
      "\n",
      "\n",
      "Choosing top 14 features:\n",
      "r_squared (Train)=0.576627\n",
      "r_squared (Test)=0.326725\n",
      "\n",
      "\n",
      "Choosing top 15 features:\n",
      "r_squared (Train)=0.577161\n",
      "r_squared (Test)=0.341195\n",
      "\n",
      "\n",
      "Choosing top 16 features:\n",
      "r_squared (Train)=0.582362\n",
      "r_squared (Test)=0.342067\n",
      "\n",
      "\n",
      "Choosing top 17 features:\n",
      "r_squared (Train)=0.596065\n",
      "r_squared (Test)=0.319440\n",
      "\n",
      "\n",
      "Choosing top 18 features:\n",
      "r_squared (Train)=0.596065\n",
      "r_squared (Test)=0.319440\n",
      "\n",
      "\n",
      "Choosing top 19 features:\n",
      "r_squared (Train)=0.612897\n",
      "r_squared (Test)=0.320645\n",
      "\n",
      "\n",
      "Choosing top 20 features:\n",
      "r_squared (Train)=0.618978\n",
      "r_squared (Test)=0.319758\n",
      "\n",
      "\n",
      "Choosing top 21 features:\n",
      "r_squared (Train)=0.628215\n",
      "r_squared (Test)=0.323081\n",
      "\n",
      "\n",
      "Choosing top 22 features:\n",
      "r_squared (Train)=0.634177\n",
      "r_squared (Test)=0.322984\n",
      "\n",
      "\n",
      "Choosing top 23 features:\n",
      "r_squared (Train)=0.650508\n",
      "r_squared (Test)=0.321391\n",
      "\n",
      "\n",
      "Choosing top 24 features:\n",
      "r_squared (Train)=0.650511\n",
      "r_squared (Test)=0.321483\n",
      "\n",
      "\n",
      "Choosing top 25 features:\n",
      "r_squared (Train)=0.650576\n",
      "r_squared (Test)=0.320773\n",
      "\n",
      "\n",
      "Choosing top 26 features:\n",
      "r_squared (Train)=0.659601\n",
      "r_squared (Test)=0.314966\n",
      "\n",
      "\n",
      "Choosing top 27 features:\n",
      "r_squared (Train)=0.669528\n",
      "r_squared (Test)=0.322915\n",
      "\n",
      "\n",
      "Choosing top 28 features:\n",
      "r_squared (Train)=0.674362\n",
      "r_squared (Test)=0.323544\n",
      "\n",
      "\n",
      "Choosing top 29 features:\n",
      "r_squared (Train)=0.675573\n",
      "r_squared (Test)=0.332430\n",
      "\n",
      "\n",
      "Choosing top 30 features:\n",
      "r_squared (Train)=0.688139\n",
      "r_squared (Test)=0.332242\n",
      "\n",
      "\n",
      "Choosing top 31 features:\n",
      "r_squared (Train)=0.693488\n",
      "r_squared (Test)=0.330425\n",
      "\n",
      "\n",
      "Choosing top 32 features:\n",
      "r_squared (Train)=0.694387\n",
      "r_squared (Test)=0.333895\n",
      "\n",
      "\n",
      "Choosing top 33 features:\n",
      "r_squared (Train)=0.699538\n",
      "r_squared (Test)=0.331564\n",
      "\n",
      "\n",
      "Choosing top 34 features:\n",
      "r_squared (Train)=0.699538\n",
      "r_squared (Test)=0.331564\n",
      "\n",
      "\n",
      "Choosing top 35 features:\n",
      "r_squared (Train)=0.699538\n",
      "r_squared (Test)=0.331564\n",
      "\n",
      "\n",
      "Choosing top 36 features:\n",
      "r_squared (Train)=0.701967\n",
      "r_squared (Test)=0.326761\n",
      "\n",
      "\n",
      "Choosing top 37 features:\n",
      "r_squared (Train)=0.707233\n",
      "r_squared (Test)=0.322903\n",
      "\n",
      "\n",
      "Choosing top 38 features:\n",
      "r_squared (Train)=0.715658\n",
      "r_squared (Test)=0.324235\n",
      "\n",
      "\n",
      "Choosing top 39 features:\n",
      "r_squared (Train)=0.727548\n",
      "r_squared (Test)=0.322233\n",
      "\n",
      "\n",
      "Choosing top 40 features:\n",
      "r_squared (Train)=0.735154\n",
      "r_squared (Test)=0.297938\n",
      "\n",
      "\n",
      "Choosing top 41 features:\n",
      "r_squared (Train)=0.746111\n",
      "r_squared (Test)=0.297517\n",
      "\n",
      "\n",
      "Choosing top 42 features:\n",
      "r_squared (Train)=0.751609\n",
      "r_squared (Test)=0.315973\n",
      "\n",
      "\n",
      "Choosing top 43 features:\n",
      "r_squared (Train)=0.755517\n",
      "r_squared (Test)=0.311597\n",
      "\n",
      "\n"
     ]
    }
   ],
   "source": [
    "r_squared_train=[]\n",
    "r_squared_test=[]\n",
    "for k in range(1,max_vars+1):\n",
    "    # choose best no. of features based on f-score\n",
    "    from sklearn.feature_selection import SelectKBest\n",
    "    from sklearn.feature_selection import f_regression\n",
    "    print (\"Choosing top {} features:\".format(k))\n",
    "    x_new = SelectKBest(f_regression, k=k).fit_transform(x, y)\n",
    "    x_train, x_test, y_train, y_test = train_test_split(x_new, y, test_size=0.25, random_state=42)\n",
    "    # Fit the model on training set\n",
    "    lr=linear_model.LinearRegression(fit_intercept=True, normalize=True, copy_X=True)\n",
    "    model=lr.fit(x_train,y_train)\n",
    "    # Calculate r_squared on test and train\n",
    "    r_squared_train.append(model.score(x_train,y_train))\n",
    "    r_squared_test.append(model.score(x_test,y_test))\n",
    "    print (\"r_squared (Train)={:.6f}\".format(r_squared_train[k-1]))\n",
    "    print (\"r_squared (Test)={:.6f}\\n\\n\".format(r_squared_test[k-1]))"
   ]
  },
  {
   "cell_type": "markdown",
   "metadata": {},
   "source": [
    "### Visualise the r_squared"
   ]
  },
  {
   "cell_type": "code",
   "execution_count": 27,
   "metadata": {},
   "outputs": [
    {
     "data": {
      "text/plain": [
       "Text(0,0.5,'r_squared')"
      ]
     },
     "execution_count": 27,
     "metadata": {},
     "output_type": "execute_result"
    },
    {
     "data": {
      "image/png": "[encoded data removed]",
      "text/plain": [
       "<matplotlib.figure.Figure at 0xe614390>"
      ]
     },
     "metadata": {},
     "output_type": "display_data"
    }
   ],
   "source": [
    "% matplotlib inline\n",
    "max_r_squared_test=max(r_squared_test)\n",
    "num_vars=r_squared_test.index(max_r_squared_test)+1\n",
    "\n",
    "fig=plt.figure(figsize=(12,6))\n",
    "plt.plot(range(1,max_vars+1),r_squared_train)\n",
    "plt.plot(range(1,max_vars+1),r_squared_test)\n",
    "plt.scatter(num_vars,max_r_squared_test,s=100,c=(155/255,55/255,0,1))\n",
    "ax=fig.get_axes()[0]\n",
    "ax.legend([\"Train r_squared\",\"Test r_squared\",\"Best TEST r_squared={:.6f}\\nNum_vars={}\".format(max_r_squared_test,num_vars)])\n",
    "plt.axvline(x=num_vars,ls=\"--\",c='grey')\n",
    "plt.title(\"Profit regression r_squared\\n Test data size=25%\")\n",
    "ax.set_xlabel(\"No.of variables\",size=10,labelpad=16,style=\"italic\")\n",
    "ax.set_ylabel(\"r_squared\",size=10,labelpad=16,style=\"italic\")\n"
   ]
  },
  {
   "cell_type": "code",
   "execution_count": 7,
   "metadata": {},
   "outputs": [
    {
     "data": {
      "text/plain": [
       "0.34206670823358787"
      ]
     },
     "execution_count": 7,
     "metadata": {},
     "output_type": "execute_result"
    }
   ],
   "source": [
    "max(r_squared_test)"
   ]
  }
 ],
 "metadata": {
  "kernelspec": {
   "display_name": "Python 3",
   "language": "python",
   "name": "python3"
  },
  "language_info": {
   "codemirror_mode": {
    "name": "ipython",
    "version": 3
   },
   "file_extension": ".py",
   "mimetype": "text/x-python",
   "name": "python",
   "nbconvert_exporter": "python",
   "pygments_lexer": "ipython3",
   "version": "3.6.3"
  }
 },
 "nbformat": 4,
 "nbformat_minor": 2
}
